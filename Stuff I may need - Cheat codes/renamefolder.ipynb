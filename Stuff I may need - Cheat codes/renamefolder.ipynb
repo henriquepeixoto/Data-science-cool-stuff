{
 "cells": [
  {
   "cell_type": "code",
   "execution_count": 1,
   "metadata": {},
   "outputs": [],
   "source": [
    "import os"
   ]
  },
  {
   "cell_type": "code",
   "execution_count": 9,
   "metadata": {},
   "outputs": [],
   "source": [
    "def main(): \n",
    "  \n",
    "    for count, filename in enumerate(os.listdir(\"C:/Users/henri/Documents/GitHub/Hvar/Renner/Fotos para teste/Manga longa\")): \n",
    "        dst =\"mangalonga\" + str(count) + \".png\"\n",
    "        src ='C:/Users/henri/Documents/GitHub/Hvar/Renner/Fotos para teste/Manga longa/'+ filename \n",
    "        dst ='C:/Users/henri/Documents/GitHub/Hvar/Renner/Fotos para teste/mangacurta/'+ dst \n",
    "          \n",
    "        # rename() function will \n",
    "        # rename all the files \n",
    "        os.rename(src, dst) \n",
    "main()"
   ]
  },
  {
   "cell_type": "code",
   "execution_count": 8,
   "metadata": {},
   "outputs": [],
   "source": [
    "val = 72\n",
    "li = os.listdir(\"C:/Users/henri/Documents/GitHub/Hvar/Renner/Fotos para teste/Manga longa\")\n",
    "for i in li:\n",
    "        dst =\"mangalonga\" + str(val) + \".png\"\n",
    "        src ='C:/Users/henri/Documents/GitHub/Hvar/Renner/Fotos para teste/Manga longa/'+ i \n",
    "        dst ='C:/Users/henri/Documents/GitHub/Hvar/Renner/Fotos para teste/mangalonga/'+ dst \n",
    "          \n",
    "        # rename() function will \n",
    "        # rename all the files \n",
    "        os.rename(src, dst) \n",
    "        val += 1\n",
    "        "
   ]
  },
  {
   "cell_type": "code",
   "execution_count": null,
   "metadata": {},
   "outputs": [],
   "source": []
  }
 ],
 "metadata": {
  "kernelspec": {
   "display_name": "Python 3",
   "language": "python",
   "name": "python3"
  },
  "language_info": {
   "codemirror_mode": {
    "name": "ipython",
    "version": 3
   },
   "file_extension": ".py",
   "mimetype": "text/x-python",
   "name": "python",
   "nbconvert_exporter": "python",
   "pygments_lexer": "ipython3",
   "version": "3.8.3"
  }
 },
 "nbformat": 4,
 "nbformat_minor": 4
}
